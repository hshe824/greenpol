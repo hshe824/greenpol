{
 "cells": [
  {
   "cell_type": "code",
   "execution_count": 1,
   "metadata": {
    "collapsed": false
   },
   "outputs": [
    {
     "name": "stdout",
     "output_type": "stream",
     "text": [
      "Using matplotlib backend: Qt4Agg\n",
      "Populating the interactive namespace from numpy and matplotlib\n"
     ]
    }
   ],
   "source": [
    "import sys\n",
    "sys.path.append('/COFE_analysis/utils_meinhold/')\n",
    "sys.path.append('/COFE_analysis/utils_zonca/')\n",
    "from glob import glob\n",
    "import time\n",
    "import cofe_util as cu\n",
    "import Tkinter,tkFileDialog\n",
    "root = Tkinter.Tk()\n",
    "from demod import datparsing\n",
    "%pylab"
   ]
  },
  {
   "cell_type": "code",
   "execution_count": 2,
   "metadata": {
    "collapsed": true
   },
   "outputs": [],
   "source": [
    "root = Tkinter.Tk()"
   ]
  },
  {
   "cell_type": "code",
   "execution_count": 3,
   "metadata": {
    "collapsed": false
   },
   "outputs": [],
   "source": [
    "def load_raw_data(ffile=None,freq='10'):\n",
    "    '''\n",
    "    function to load raw data\n",
    "    '''\n",
    "    if ffile==None:\n",
    "        ffile = list(tkFileDialog.askopenfilenames(initialdir='C:\\\\COFE\\\\telescope_source\\\\data',parent=root,title='Choose a file'))\n",
    "    ffile.sort()\n",
    "    print(ffile) #,mode='rb'\n",
    "    d=datparsing.read_raw(ffile)\n",
    "    return(d)"
   ]
  },
  {
   "cell_type": "code",
   "execution_count": 4,
   "metadata": {
    "collapsed": false
   },
   "outputs": [],
   "source": [
    "import time"
   ]
  },
  {
   "cell_type": "code",
   "execution_count": 22,
   "metadata": {
    "collapsed": false
   },
   "outputs": [],
   "source": [
    "def load_and_prep_data(d_label='test'):\n",
    "    '''\n",
    "    script to load data set, spit out colormesh, then stack and store signal in dict\n",
    "    '''\n",
    "    now = time.strftime(\"%c\")\n",
    "    d=load_raw_data()\n",
    "    m=[]\n",
    "    #extract first a/d into an array and plot it\n",
    "    for dd in d:\n",
    "        m.append(dd[2])\n",
    "    p1=figure(10)\n",
    "    p1.clear()\n",
    "    pcolormesh(m)\n",
    "    title('Vibration test %s' %now )\n",
    "    stack=np.mean(m,axis=0)-np.mean(m)\n",
    "    p2=figure(11)\n",
    "    p2.clear()\n",
    "    plot(stack,label=d_label)\n",
    "    xlabel('Rotation position, 256/rev')\n",
    "    ylabel('Relative proximity reading, V')\n",
    "    title('Vibration test %s' %now )\n",
    "    legend()\n",
    "    return stack\n",
    "    "
   ]
  },
  {
   "cell_type": "code",
   "execution_count": 23,
   "metadata": {
    "collapsed": true
   },
   "outputs": [],
   "source": [
    "tst={}"
   ]
  },
  {
   "cell_type": "code",
   "execution_count": 34,
   "metadata": {
    "collapsed": false,
    "scrolled": true
   },
   "outputs": [
    {
     "name": "stdout",
     "output_type": "stream",
     "text": [
      "['C:/Greenland/test_data_from_greenpol_1/data/20170831/14381400.dat']\n"
     ]
    },
    {
     "name": "stderr",
     "output_type": "stream",
     "text": [
      "WARNING:root:Removing invalid revolutions (index from beginning of file): [0]\n"
     ]
    },
    {
     "name": "stdout",
     "output_type": "stream",
     "text": [
      "1001\n",
      "16\n"
     ]
    }
   ],
   "source": [
    "tst['jnk']=load_and_prep_data('jnk')"
   ]
  },
  {
   "cell_type": "code",
   "execution_count": 13,
   "metadata": {
    "collapsed": true
   },
   "outputs": [],
   "source": [
    "cal=(270/(2e-3))/5000"
   ]
  },
  {
   "cell_type": "code",
   "execution_count": 31,
   "metadata": {
    "collapsed": false,
    "scrolled": true
   },
   "outputs": [],
   "source": [
    "tst['g_amb']=tst['g_amb']/100"
   ]
  },
  {
   "cell_type": "code",
   "execution_count": 33,
   "metadata": {
    "collapsed": false
   },
   "outputs": [],
   "source": [
    "now = time.strftime(\"%c\")\n",
    "figure()\n",
    "for key in tst.keys():\n",
    "    plot(cal*tst[key],label=key)\n",
    "xlabel('Rotation position, 256/rev')\n",
    "ylabel('Relative signal,K')\n",
    "title('Emissivity tests, 8_31_17,amb is /100')\n",
    "leg=legend()\n",
    "    "
   ]
  },
  {
   "cell_type": "code",
   "execution_count": 25,
   "metadata": {
    "collapsed": false
   },
   "outputs": [],
   "source": [
    "cu.thicklegendlines(leg)"
   ]
  },
  {
   "cell_type": "code",
   "execution_count": 23,
   "metadata": {
    "collapsed": false
   },
   "outputs": [
    {
     "data": {
      "text/plain": [
       "<matplotlib.legend.Legend at 0x120892b0>"
      ]
     },
     "execution_count": 23,
     "metadata": {},
     "output_type": "execute_result"
    }
   ],
   "source": [
    "leg"
   ]
  },
  {
   "cell_type": "code",
   "execution_count": null,
   "metadata": {
    "collapsed": true
   },
   "outputs": [],
   "source": []
  }
 ],
 "metadata": {
  "anaconda-cloud": {},
  "kernelspec": {
   "display_name": "Python 2",
   "language": "python",
   "name": "python2"
  },
  "language_info": {
   "codemirror_mode": {
    "name": "ipython",
    "version": 2
   },
   "file_extension": ".py",
   "mimetype": "text/x-python",
   "name": "python",
   "nbconvert_exporter": "python",
   "pygments_lexer": "ipython2",
   "version": "2.7.13"
  }
 },
 "nbformat": 4,
 "nbformat_minor": 1
}
