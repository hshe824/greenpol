{
 "cells": [
  {
   "cell_type": "markdown",
   "metadata": {},
   "source": [
    "# Example code for Greenpol quick look analysis\n",
    "# Create PYTHONPATH environment variable on your computer:\n",
    "# c:\\software_git_repos\n",
    "# c:\\software_git_repos\\cofe-python-analysis-tools\\utils_meinhold\n",
    "# c:\\software_git_repos\\cofe-python-analysis-tools\\utils_zonca\n",
    "# (or equivalent)"
   ]
  },
  {
   "cell_type": "code",
   "execution_count": 70,
   "metadata": {
    "collapsed": false
   },
   "outputs": [],
   "source": [
    "from glob import glob\n",
    "\n",
    "import cofe_util as cu\n",
    "import realtime_gp as rt\n",
    "%pylab\n",
    "\n",
    "import datetime"
   ]
  },
  {
   "cell_type": "code",
   "execution_count": 109,
   "metadata": {
    "collapsed": false
   },
   "outputs": [
    {
     "name": "stdout",
     "output_type": "stream",
     "text": [
      "c:/Greenland/test_data_from_greenpol_1/data/20170602/*.dat\n"
     ]
    }
   ],
   "source": [
    "yrmoday='20170602'\n",
    "fpath='c:/Greenland/test_data_from_greenpol_1/'\n",
    "print(fpath+'data/'+yrmoday+'/*.dat')"
   ]
  },
  {
   "cell_type": "code",
   "execution_count": 155,
   "metadata": {
    "collapsed": false
   },
   "outputs": [
    {
     "data": {
      "text/plain": [
       "<module 'realtime_gp' from 'c:\\software_git_repos\\cofe-python-analysis-tools\\utils_meinhold\\realtime_gp.py'>"
      ]
     },
     "execution_count": 155,
     "metadata": {},
     "output_type": "execute_result"
    }
   ],
   "source": [
    "reload(rt)"
   ]
  },
  {
   "cell_type": "code",
   "execution_count": 159,
   "metadata": {
    "collapsed": false,
    "scrolled": true
   },
   "outputs": [
    {
     "name": "stdout",
     "output_type": "stream",
     "text": [
      "c:/Greenland/test_data_from_greenpol_1/06-02-2017\\18-20-50.h5\n",
      "c:/Greenland/test_data_from_greenpol_1/06-02-2017\\18-21-50.h5\n",
      "c:/Greenland/test_data_from_greenpol_1/06-02-2017\\18-22-50.h5\n",
      "['c:/Greenland/test_data_from_greenpol_1/data/20170602\\\\18214500.dat', 'c:/Greenland/test_data_from_greenpol_1/data/20170602\\\\18221800.dat']\n",
      "10752000\n",
      "c:/Greenland/test_data_from_greenpol_1/data/20170602\\18214500.dat\n",
      "0\n",
      "16\n",
      "10752000\n",
      "c:/Greenland/test_data_from_greenpol_1/data/20170602\\18221800.dat\n",
      "0\n",
      "16\n",
      "498006176\n",
      "11466912\n"
     ]
    }
   ],
   "source": [
    "combdata=rt.plotnow(yrmoday,fpath=fpath,chan='ch1')"
   ]
  },
  {
   "cell_type": "code",
   "execution_count": 157,
   "metadata": {
    "collapsed": false
   },
   "outputs": [
    {
     "data": {
      "text/plain": [
       "[<matplotlib.lines.Line2D at 0x113009e8>]"
      ]
     },
     "execution_count": 157,
     "metadata": {},
     "output_type": "execute_result"
    }
   ],
   "source": [
    "figure()\n",
    "plot(combdata['az'])"
   ]
  },
  {
   "cell_type": "code",
   "execution_count": 115,
   "metadata": {
    "collapsed": false
   },
   "outputs": [],
   "source": [
    "fld=glob(fpath+'data/'+yrmoday+'/*.dat')\n",
    "fld.sort()"
   ]
  },
  {
   "cell_type": "code",
   "execution_count": 116,
   "metadata": {
    "collapsed": false
   },
   "outputs": [
    {
     "data": {
      "text/plain": [
       "'c:/Greenland/test_data_from_greenpol_1/data/20170602\\\\17292000.dat'"
      ]
     },
     "execution_count": 116,
     "metadata": {},
     "output_type": "execute_result"
    }
   ],
   "source": [
    "fld[-2]"
   ]
  },
  {
   "cell_type": "code",
   "execution_count": 117,
   "metadata": {
    "collapsed": false
   },
   "outputs": [
    {
     "name": "stdout",
     "output_type": "stream",
     "text": [
      "0\n",
      "16\n"
     ]
    }
   ],
   "source": [
    "dr=rt.demod.read_raw([fld[-2]],supply_index=False)"
   ]
  },
  {
   "cell_type": "code",
   "execution_count": 118,
   "metadata": {
    "collapsed": false
   },
   "outputs": [
    {
     "data": {
      "text/plain": [
       "[<matplotlib.lines.Line2D at 0x10bc9160>]"
      ]
     },
     "execution_count": 118,
     "metadata": {},
     "output_type": "execute_result"
    }
   ],
   "source": [
    "figure()\n",
    "plot(dr['rev'])"
   ]
  },
  {
   "cell_type": "code",
   "execution_count": 128,
   "metadata": {
    "collapsed": false
   },
   "outputs": [],
   "source": [
    "ptime=494945800\n",
    "dtime=int32(dr['rev'][0])\n"
   ]
  },
  {
   "cell_type": "code",
   "execution_count": 132,
   "metadata": {
    "collapsed": false
   },
   "outputs": [],
   "source": [
    "def bin_to_int(bin_str):\n",
    "    return int(bin_str,2)"
   ]
  },
  {
   "cell_type": "code",
   "execution_count": 147,
   "metadata": {
    "collapsed": false
   },
   "outputs": [],
   "source": [
    "ptime_m = ptime & 0x00ffffff "
   ]
  },
  {
   "cell_type": "code",
   "execution_count": 149,
   "metadata": {
    "collapsed": false
   },
   "outputs": [
    {
     "name": "stdout",
     "output_type": "stream",
     "text": [
      "0b11101100000000100011000001000\n",
      "0b100000000100011000001000\n",
      "100000000100011000001000\n"
     ]
    }
   ],
   "source": [
    "print(bin(int(ptime)))\n",
    "print(bin(int(ptime_m)))\n",
    "print(bin(int(ptime))[-24:])"
   ]
  },
  {
   "cell_type": "code",
   "execution_count": 133,
   "metadata": {
    "collapsed": false
   },
   "outputs": [
    {
     "name": "stdout",
     "output_type": "stream",
     "text": [
      "8406536\n",
      "8436414\n"
     ]
    }
   ],
   "source": [
    "print(bin_to_int(bin(int(ptime))[-24:]))\n",
    "print(bin_to_int(bin(int(dtime))[-24:]))"
   ]
  },
  {
   "cell_type": "code",
   "execution_count": 121,
   "metadata": {
    "collapsed": false
   },
   "outputs": [],
   "source": [
    "year=2017\n",
    "month=6\n",
    "day=2\n",
    "hour=17\n",
    "minute=47\n",
    "seconds=7\n",
    "dtime=datetime.datetime(year,month,day,hour,minute,seconds,0,None)"
   ]
  },
  {
   "cell_type": "code",
   "execution_count": 122,
   "metadata": {
    "collapsed": false
   },
   "outputs": [
    {
     "data": {
      "text/plain": [
       "4"
      ]
     },
     "execution_count": 122,
     "metadata": {},
     "output_type": "execute_result"
    }
   ],
   "source": [
    "dtime.weekday()"
   ]
  },
  {
   "cell_type": "code",
   "execution_count": 123,
   "metadata": {
    "collapsed": false
   },
   "outputs": [],
   "source": [
    "wtime_ms=1000*(3600*24*dtime.weekday()+3600*hour+60*minute+seconds)"
   ]
  },
  {
   "cell_type": "code",
   "execution_count": 124,
   "metadata": {
    "collapsed": false
   },
   "outputs": [
    {
     "name": "stdout",
     "output_type": "stream",
     "text": [
      "409627000\n",
      "494945800\n",
      "-1422\n"
     ]
    }
   ],
   "source": [
    "print(wtime_ms)\n",
    "print(ptime)\n",
    "print((wtime_ms-ptime)/60000)"
   ]
  },
  {
   "cell_type": "code",
   "execution_count": null,
   "metadata": {
    "collapsed": true
   },
   "outputs": [],
   "source": []
  },
  {
   "cell_type": "code",
   "execution_count": 15,
   "metadata": {
    "collapsed": false
   },
   "outputs": [
    {
     "data": {
      "text/plain": [
       "[<matplotlib.lines.Line2D at 0xb782710>]"
      ]
     },
     "execution_count": 15,
     "metadata": {},
     "output_type": "execute_result"
    }
   ],
   "source": [
    "chan='ch0'\n",
    "plot(combdata['el'])"
   ]
  },
  {
   "cell_type": "code",
   "execution_count": 7,
   "metadata": {
    "collapsed": false
   },
   "outputs": [
    {
     "name": "stdout",
     "output_type": "stream",
     "text": [
      "c:\\Greenland\\test_data_from_greenpol_1\n"
     ]
    }
   ],
   "source": [
    "cd c:\\Greenland\\test_data_from_greenpol_1"
   ]
  },
  {
   "cell_type": "code",
   "execution_count": 8,
   "metadata": {
    "collapsed": false
   },
   "outputs": [
    {
     "name": "stderr",
     "output_type": "stream",
     "text": [
      "c:\\software_git_repos\\cofe-python-analysis-tools\\utils_zonca\\demod\\datparsing.py:38: VisibleDeprecationWarning: boolean index did not match indexed array along dimension 0; dimension is 253666 but corresponding boolean dimension is 253665\n",
      "  good[duplicates] = False\n",
      "WARNING:root:Removing invalid revolutions (index from beginning of file): [  0   1   2   3   4   5   6   7   8   9  10  11  12  13  14  15  16  17\n",
      "  18  19  20  21  22  23  24  25  26  27  28  29  30  31  32  33  34  35\n",
      "  36  37  38  39  40  41  42  43  44  45  46  47  48  49  50  51  52  53\n",
      "  54  55  56  57  58  59  60  61  62  63  64  65  66  67  68  69  70  71\n",
      "  72  73  74  75  76  77  78  79  80  81  82  83  84  85  86  87  88  89\n",
      "  90  91  92  93  94  95  96  97  98  99 100 101 102 103 104 105 106 107\n",
      " 108 109 110 111 112 113 114 115 116 117 118 119 120 121 122 123 124 125\n",
      " 126 127 128 129 130 131 132 133 134 135 136 137 138 139 140 141 142 143\n",
      " 144 145 146 147 148 149 150 151 152 153 154 155 156 157 158 159 160 161\n",
      " 162 163 164 165 166 167 168 169 170 171 172 173 174 175 176 177 178 179\n",
      " 180 181 182 183 184 185 186 187 188 189 190 191 192 193 194 195 196 197\n",
      " 198 199 200 201 202 203 204 205 206 207 208 209 210 211 212 213 214 215\n",
      " 216 217 218 219 220 221 222 223 224 225 226 227 228 229 230 231 232 233\n",
      " 234 235 236 237 238 239 240 241 242 243 244 245 246 247 248 249 250 251\n",
      " 252 253 254 255 256 257 258 259 260 261 262 263 264 265 266 267 268 269\n",
      " 270 271 272 273 274 275 276 277 278 279 280 281 282 283 284 285 286 287\n",
      " 288 289 290 291 292 293 294 295 296 297 298 299 300 301 302 303 304 305\n",
      " 306 307 308 309 310 311 312 313 314 315 316 317 318 319]\n"
     ]
    },
    {
     "name": "stdout",
     "output_type": "stream",
     "text": [
      "c:/Greenland/test_data_from_greenpol_1/05-24-2017\\16-29-36.h5\n",
      "c:/Greenland/test_data_from_greenpol_1/05-24-2017\\16-30-36.h5\n",
      "['c:/Greenland/test_data_from_greenpol_1/data/20170524\\\\16275300.dat', 'c:/Greenland/test_data_from_greenpol_1/data/20170524\\\\16282800.dat', 'c:/Greenland/test_data_from_greenpol_1/data/20170524\\\\16290200.dat', 'c:/Greenland/test_data_from_greenpol_1/data/20170524\\\\16293700.dat', 'c:/Greenland/test_data_from_greenpol_1/data/20170524\\\\16301100.dat']\n",
      "10751958\n",
      "10752000\n",
      "c:/Greenland/test_data_from_greenpol_1/data/20170524\\16282800.dat\n",
      "322\n",
      "16\n"
     ]
    },
    {
     "name": "stderr",
     "output_type": "stream",
     "text": [
      "ERROR:root:NO VALID DATA IN FILE\n"
     ]
    },
    {
     "ename": "IndexError",
     "evalue": "index 0 is out of bounds for axis 0 with size 0",
     "output_type": "error",
     "traceback": [
      "\u001b[0;31m---------------------------------------------------------------------------\u001b[0m",
      "\u001b[0;31mIndexError\u001b[0m                                Traceback (most recent call last)",
      "\u001b[0;32m<ipython-input-8-e81afb260964>\u001b[0m in \u001b[0;36m<module>\u001b[0;34m()\u001b[0m\n\u001b[0;32m----> 1\u001b[0;31m \u001b[0mcdata\u001b[0m\u001b[1;33m=\u001b[0m\u001b[0mrt\u001b[0m\u001b[1;33m.\u001b[0m\u001b[0mgetdatanow\u001b[0m\u001b[1;33m(\u001b[0m\u001b[1;34m'20170524'\u001b[0m\u001b[1;33m,\u001b[0m\u001b[0mfpath\u001b[0m\u001b[1;33m=\u001b[0m\u001b[1;34m'c:/Greenland/test_data_from_greenpol_1/'\u001b[0m\u001b[1;33m,\u001b[0m\u001b[0mcombined\u001b[0m\u001b[1;33m=\u001b[0m\u001b[0mTrue\u001b[0m\u001b[1;33m)\u001b[0m\u001b[1;33m\u001b[0m\u001b[0m\n\u001b[0m",
      "\u001b[0;32mc:\\software_git_repos\\cofe-python-analysis-tools\\utils_meinhold\\realtime_gp.pyc\u001b[0m in \u001b[0;36mgetdatanow\u001b[0;34m(yrmoday, fpath, combined, phase_offset)\u001b[0m\n\u001b[1;32m    242\u001b[0m     \u001b[0mflp\u001b[0m\u001b[1;33m.\u001b[0m\u001b[0msort\u001b[0m\u001b[1;33m(\u001b[0m\u001b[1;33m)\u001b[0m\u001b[1;33m\u001b[0m\u001b[0m\n\u001b[1;32m    243\u001b[0m     \u001b[0mpp\u001b[0m\u001b[1;33m=\u001b[0m\u001b[0mget_h5_pointing\u001b[0m\u001b[1;33m(\u001b[0m\u001b[0mflp\u001b[0m\u001b[1;33m)\u001b[0m\u001b[1;33m\u001b[0m\u001b[0m\n\u001b[0;32m--> 244\u001b[0;31m     \u001b[0mdd\u001b[0m\u001b[1;33m=\u001b[0m\u001b[0mget_demodulated_data_from_list\u001b[0m\u001b[1;33m(\u001b[0m\u001b[0mfld\u001b[0m\u001b[1;33m,\u001b[0m\u001b[0mphase_offset\u001b[0m\u001b[1;33m=\u001b[0m\u001b[0mphase_offset\u001b[0m\u001b[1;33m)\u001b[0m\u001b[1;33m\u001b[0m\u001b[0m\n\u001b[0m\u001b[1;32m    245\u001b[0m     \u001b[0mcurr_data\u001b[0m\u001b[1;33m=\u001b[0m\u001b[1;33m{\u001b[0m\u001b[1;34m'pp'\u001b[0m\u001b[1;33m:\u001b[0m\u001b[0mpp\u001b[0m\u001b[1;33m,\u001b[0m\u001b[1;34m'dd'\u001b[0m\u001b[1;33m:\u001b[0m\u001b[0mdd\u001b[0m\u001b[1;33m,\u001b[0m\u001b[1;34m'lastpfile'\u001b[0m\u001b[1;33m:\u001b[0m\u001b[0mflp\u001b[0m\u001b[1;33m[\u001b[0m\u001b[1;33m-\u001b[0m\u001b[1;36m1\u001b[0m\u001b[1;33m]\u001b[0m\u001b[1;33m,\u001b[0m\u001b[1;34m'lastdfile'\u001b[0m\u001b[1;33m:\u001b[0m\u001b[0mfld\u001b[0m\u001b[1;33m[\u001b[0m\u001b[1;33m-\u001b[0m\u001b[1;36m1\u001b[0m\u001b[1;33m]\u001b[0m\u001b[1;33m,\u001b[0m\u001b[1;34m'yrmoday'\u001b[0m\u001b[1;33m:\u001b[0m\u001b[0myrmoday\u001b[0m\u001b[1;33m,\u001b[0m\u001b[1;34m'fpath'\u001b[0m\u001b[1;33m:\u001b[0m\u001b[0mfpath\u001b[0m\u001b[1;33m}\u001b[0m\u001b[1;33m\u001b[0m\u001b[0m\n\u001b[1;32m    246\u001b[0m     \u001b[1;32mif\u001b[0m \u001b[0mcombined\u001b[0m\u001b[1;33m:\u001b[0m\u001b[1;33m\u001b[0m\u001b[0m\n",
      "\u001b[0;32mc:\\software_git_repos\\cofe-python-analysis-tools\\utils_meinhold\\realtime_gp.pyc\u001b[0m in \u001b[0;36mget_demodulated_data_from_list\u001b[0;34m(filelist, freq, supply_index, phase_offset)\u001b[0m\n\u001b[1;32m    114\u001b[0m             \u001b[0mm\u001b[0m\u001b[1;33m=\u001b[0m\u001b[0mnp\u001b[0m\u001b[1;33m.\u001b[0m\u001b[0mfloat64\u001b[0m\u001b[1;33m(\u001b[0m\u001b[0mf\u001b[0m\u001b[1;33m[\u001b[0m\u001b[1;33m-\u001b[0m\u001b[1;36m10\u001b[0m\u001b[1;33m:\u001b[0m\u001b[1;33m-\u001b[0m\u001b[1;36m8\u001b[0m\u001b[1;33m]\u001b[0m\u001b[1;33m)\u001b[0m\u001b[1;33m\u001b[0m\u001b[0m\n\u001b[1;32m    115\u001b[0m             \u001b[0ms\u001b[0m\u001b[1;33m=\u001b[0m\u001b[0mnp\u001b[0m\u001b[1;33m.\u001b[0m\u001b[0mfloat64\u001b[0m\u001b[1;33m(\u001b[0m\u001b[0mf\u001b[0m\u001b[1;33m[\u001b[0m\u001b[1;33m-\u001b[0m\u001b[1;36m8\u001b[0m\u001b[1;33m:\u001b[0m\u001b[1;33m-\u001b[0m\u001b[1;36m6\u001b[0m\u001b[1;33m]\u001b[0m\u001b[1;33m)\u001b[0m\u001b[1;33m\u001b[0m\u001b[0m\n\u001b[0;32m--> 116\u001b[0;31m             \u001b[0mt\u001b[0m\u001b[1;33m=\u001b[0m\u001b[0mh\u001b[0m\u001b[1;33m+\u001b[0m\u001b[0mm\u001b[0m\u001b[1;33m/\u001b[0m\u001b[1;36m60.\u001b[0m\u001b[1;33m+\u001b[0m\u001b[1;33m(\u001b[0m\u001b[0ms\u001b[0m\u001b[1;33m+\u001b[0m\u001b[1;33m(\u001b[0m\u001b[0md\u001b[0m\u001b[1;33m[\u001b[0m\u001b[1;34m'rev'\u001b[0m\u001b[1;33m]\u001b[0m\u001b[1;33m-\u001b[0m\u001b[0md\u001b[0m\u001b[1;33m[\u001b[0m\u001b[1;34m'rev'\u001b[0m\u001b[1;33m]\u001b[0m\u001b[1;33m[\u001b[0m\u001b[1;36m0\u001b[0m\u001b[1;33m]\u001b[0m\u001b[1;33m)\u001b[0m\u001b[1;33m/\u001b[0m\u001b[0msamprate\u001b[0m\u001b[1;33m)\u001b[0m\u001b[1;33m/\u001b[0m\u001b[1;36m3600.\u001b[0m\u001b[1;33m\u001b[0m\u001b[0m\n\u001b[0m\u001b[1;32m    117\u001b[0m             \u001b[0md\u001b[0m\u001b[1;33m=\u001b[0m\u001b[0mrecf\u001b[0m\u001b[1;33m.\u001b[0m\u001b[0mappend_fields\u001b[0m\u001b[1;33m(\u001b[0m\u001b[0md\u001b[0m\u001b[1;33m,\u001b[0m\u001b[1;34m'localtime'\u001b[0m\u001b[1;33m,\u001b[0m\u001b[0mt\u001b[0m\u001b[1;33m)\u001b[0m\u001b[1;33m\u001b[0m\u001b[0m\n\u001b[1;32m    118\u001b[0m             \u001b[0mut\u001b[0m\u001b[1;33m=\u001b[0m\u001b[0mnp\u001b[0m\u001b[1;33m.\u001b[0m\u001b[0mmod\u001b[0m\u001b[1;33m(\u001b[0m\u001b[0mt\u001b[0m\u001b[1;33m+\u001b[0m\u001b[1;36m7.\u001b[0m\u001b[1;33m,\u001b[0m\u001b[1;36m24.\u001b[0m\u001b[1;33m)\u001b[0m\u001b[1;33m\u001b[0m\u001b[0m\n",
      "\u001b[0;31mIndexError\u001b[0m: index 0 is out of bounds for axis 0 with size 0"
     ]
    }
   ],
   "source": [
    "cdata=rt.getdatanow('20170524',fpath='c:/Greenland/test_data_from_greenpol_1/',combined=True)"
   ]
  },
  {
   "cell_type": "code",
   "execution_count": 68,
   "metadata": {
    "collapsed": false
   },
   "outputs": [
    {
     "name": "stdout",
     "output_type": "stream",
     "text": [
      " Volume in drive C is TI10697500B\n",
      " Volume Serial Number is B4D8-385C\n",
      "\n",
      " Directory of c:\\Greenland\\test_data_from_greenpol_1\n",
      "\n",
      "05/23/2017  05:21 PM    <DIR>          .\n",
      "05/23/2017  05:21 PM    <DIR>          ..\n",
      "05/19/2017  04:21 PM    <DIR>          05-19-2017\n",
      "05/23/2017  05:21 PM    <DIR>          data\n",
      "               0 File(s)              0 bytes\n",
      "               4 Dir(s)  140,093,427,712 bytes free\n"
     ]
    }
   ],
   "source": [
    "ls\n"
   ]
  },
  {
   "cell_type": "code",
   "execution_count": 74,
   "metadata": {
    "collapsed": false
   },
   "outputs": [],
   "source": [
    "dfl=glob('C:/Greenland/test_data_from_greenpol_1/data/20170519/*.dat')"
   ]
  },
  {
   "cell_type": "code",
   "execution_count": 78,
   "metadata": {
    "collapsed": false
   },
   "outputs": [
    {
     "name": "stdout",
     "output_type": "stream",
     "text": [
      "['C:/Greenland/test_data_from_greenpol_1/data/20170519\\\\16153700.dat', 'C:/Greenland/test_data_from_greenpol_1/data/20170519\\\\16161000.dat']\n",
      "10752000\n",
      "C:/Greenland/test_data_from_greenpol_1/data/20170519\\16153700.dat\n",
      "0\n",
      "16\n",
      "10752000\n",
      "C:/Greenland/test_data_from_greenpol_1/data/20170519\\16161000.dat\n",
      "0\n",
      "16\n"
     ]
    }
   ],
   "source": [
    "dd=rt.get_demodulated_data_from_list(dfl[1:3])"
   ]
  }
 ],
 "metadata": {
  "kernelspec": {
   "display_name": "Python 2",
   "language": "python",
   "name": "python2"
  },
  "language_info": {
   "codemirror_mode": {
    "name": "ipython",
    "version": 2
   },
   "file_extension": ".py",
   "mimetype": "text/x-python",
   "name": "python",
   "nbconvert_exporter": "python",
   "pygments_lexer": "ipython2",
   "version": "2.7.13"
  }
 },
 "nbformat": 4,
 "nbformat_minor": 2
}
